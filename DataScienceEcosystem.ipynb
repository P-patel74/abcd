{
 "cells": [
  {
   "cell_type": "markdown",
   "id": "24b2745a",
   "metadata": {},
   "source": [
    "# Data Science Tools and Ecosystem"
   ]
  },
  {
   "cell_type": "markdown",
   "id": "ed742616",
   "metadata": {},
   "source": [
    "## In this notebook, Data Science Tools and Ecosystem are summarized."
   ]
  },
  {
   "cell_type": "markdown",
   "id": "cf91a290",
   "metadata": {},
   "source": [
    "Objectives:\n",
    "1) Popular languages that Data Scientists use. \n",
    "2) Commonly used libraries used by Data Scientists.\n",
    "3) Examples of evaluating arithmetic expressions in Python"
   ]
  },
  {
   "cell_type": "markdown",
   "id": "d16bcc5e",
   "metadata": {},
   "source": [
    "### Some of the popular languages that Data Scientists use are:\n",
    "1) Python\n",
    "2) R\n",
    "3) SQL\n",
    "4) Julia"
   ]
  },
  {
   "cell_type": "markdown",
   "id": "9d107c29",
   "metadata": {},
   "source": [
    "### Some of the commonly used libraries used by Data Scientists include:\n",
    "1) TensorFlow\n",
    "2) NumPy\n",
    "3) SciPy\n",
    "4) Pandas\n",
    "5) Matplotlib\n",
    "6) SciKit-Learn\n",
    "7) PyTorch"
   ]
  },
  {
   "cell_type": "markdown",
   "id": "c035adeb",
   "metadata": {},
   "source": [
    "| Data Science Tools    |\n",
    "| --------------------- |\n",
    "| Apache Zeppelin       |   \n",
    "| Jupyter Notebooks     |\n",
    "| Rstudio               |\n"
   ]
  },
  {
   "cell_type": "markdown",
   "id": "4c596ae7",
   "metadata": {},
   "source": [
    "### Below are a few examples of evaluating arithmetic expressions in Python"
   ]
  },
  {
   "cell_type": "code",
   "execution_count": 17,
   "id": "0fba24ac",
   "metadata": {},
   "outputs": [
    {
     "data": {
      "text/plain": [
       "17"
      ]
     },
     "execution_count": 17,
     "metadata": {},
     "output_type": "execute_result"
    }
   ],
   "source": [
    "(3*4)+5\n",
    "# This a simple arithmetic expression to mutiply then add integers"
   ]
  },
  {
   "cell_type": "code",
   "execution_count": 18,
   "id": "0762f7d8",
   "metadata": {},
   "outputs": [
    {
     "data": {
      "text/plain": [
       "3.3333333333333335"
      ]
     },
     "execution_count": 18,
     "metadata": {},
     "output_type": "execute_result"
    }
   ],
   "source": [
    "200/60\n",
    "# This will convert 200 minutes to hours by diving by 60"
   ]
  },
  {
   "cell_type": "markdown",
   "id": "335ba2a4",
   "metadata": {},
   "source": [
    "## Author\n",
    "Priyanshi Patel"
   ]
  }
 ],
 "metadata": {
  "kernelspec": {
   "display_name": "Python 3 (ipykernel)",
   "language": "python",
   "name": "python3"
  },
  "language_info": {
   "codemirror_mode": {
    "name": "ipython",
    "version": 3
   },
   "file_extension": ".py",
   "mimetype": "text/x-python",
   "name": "python",
   "nbconvert_exporter": "python",
   "pygments_lexer": "ipython3",
   "version": "3.10.9"
  }
 },
 "nbformat": 4,
 "nbformat_minor": 5
}
